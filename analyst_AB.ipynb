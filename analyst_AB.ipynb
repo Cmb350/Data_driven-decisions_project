{
 "cells": [
  {
   "cell_type": "markdown",
   "metadata": {},
   "source": [
    "# Introduction\n",
    "\n",
    "In this project, we will conduct an A/A/B analysis for an emerging food company, using data from their marketing funnel. The company is in the process of updating its application sources and is concerned that these changes may impact their sales. The structure of the analysis is outlined as follows:\n",
    "\n",
    "1. A data verification was carried out, ensuring the correct dates and correcting any issues in the information that could affect our analysis.\n",
    "2. We developed an event analysis within the marketing funnel, identifying the most relevant stages and detecting the user’s typical behavior.\n",
    "3. The results of the A/A analysis for the established control groups will be presented.\n",
    "4. We conclude with the A/B analysis to determine if the changes made to the platform have affected the user’s typical behavior."
   ]
  },
  {
   "cell_type": "code",
   "execution_count": 1,
   "metadata": {},
   "outputs": [],
   "source": [
    "import pandas as pd\n",
    "import seaborn as sns\n",
    "import matplotlib.pyplot as plt\n",
    "import numpy as np\n",
    "import scipy.stats as st"
   ]
  },
  {
   "cell_type": "code",
   "execution_count": 2,
   "metadata": {},
   "outputs": [],
   "source": [
    "logs = pd.read_csv('/datasets/logs_exp_us.csv', sep = '\\t')"
   ]
  },
  {
   "cell_type": "code",
   "execution_count": 3,
   "metadata": {},
   "outputs": [],
   "source": [
    "logs = logs.rename(str.lower, axis = 'columns')\n",
    "\n",
    "logs = logs.rename(columns ={\"eventname\":\"event_name\", \"deviceidhash\":\"id\", \"eventtimestamp\":\"event_time\", \"expid\":\"exp_id\"}) # I modified the column names and added lines in the middle to better clarify the titles according to the descriptions we received.\n",
    "\n",
    "logs['event_time'] = pd.to_datetime(logs['event_time'], unit = 's') # I set up the S drive so I can extract the dates in the format we need\n",
    "logs['date'] = logs['event_time'].dt.date\n",
    "logs['time'] = logs['event_time'].dt.time"
   ]
  },
  {
   "cell_type": "code",
   "execution_count": 4,
   "metadata": {},
   "outputs": [
    {
     "name": "stdout",
     "output_type": "stream",
     "text": [
      "<class 'pandas.core.frame.DataFrame'>\n",
      "RangeIndex: 244126 entries, 0 to 244125\n",
      "Data columns (total 6 columns):\n",
      " #   Column      Non-Null Count   Dtype         \n",
      "---  ------      --------------   -----         \n",
      " 0   event_name  244126 non-null  object        \n",
      " 1   id          244126 non-null  int64         \n",
      " 2   event_time  244126 non-null  datetime64[ns]\n",
      " 3   exp_id      244126 non-null  int64         \n",
      " 4   date        244126 non-null  object        \n",
      " 5   time        244126 non-null  object        \n",
      "dtypes: datetime64[ns](1), int64(2), object(3)\n",
      "memory usage: 11.2+ MB\n",
      "None\n",
      "                     event_name                   id          event_time  \\\n",
      "0              MainScreenAppear  4575588528974610257 2019-07-25 04:43:36   \n",
      "1              MainScreenAppear  7416695313311560658 2019-07-25 11:11:42   \n",
      "2       PaymentScreenSuccessful  3518123091307005509 2019-07-25 11:28:47   \n",
      "3              CartScreenAppear  3518123091307005509 2019-07-25 11:28:47   \n",
      "4       PaymentScreenSuccessful  6217807653094995999 2019-07-25 11:48:42   \n",
      "...                         ...                  ...                 ...   \n",
      "244121         MainScreenAppear  4599628364049201812 2019-08-07 21:12:25   \n",
      "244122         MainScreenAppear  5849806612437486590 2019-08-07 21:13:59   \n",
      "244123         MainScreenAppear  5746969938801999050 2019-08-07 21:14:43   \n",
      "244124         MainScreenAppear  5746969938801999050 2019-08-07 21:14:58   \n",
      "244125       OffersScreenAppear  5746969938801999050 2019-08-07 21:15:17   \n",
      "\n",
      "        exp_id        date      time  \n",
      "0          246  2019-07-25  04:43:36  \n",
      "1          246  2019-07-25  11:11:42  \n",
      "2          248  2019-07-25  11:28:47  \n",
      "3          248  2019-07-25  11:28:47  \n",
      "4          248  2019-07-25  11:48:42  \n",
      "...        ...         ...       ...  \n",
      "244121     247  2019-08-07  21:12:25  \n",
      "244122     246  2019-08-07  21:13:59  \n",
      "244123     246  2019-08-07  21:14:43  \n",
      "244124     246  2019-08-07  21:14:58  \n",
      "244125     246  2019-08-07  21:15:17  \n",
      "\n",
      "[244126 rows x 6 columns]\n"
     ]
    }
   ],
   "source": [
    "print(logs.info())\n",
    "print(logs)"
   ]
  },
  {
   "cell_type": "code",
   "execution_count": 5,
   "metadata": {},
   "outputs": [
    {
     "name": "stdout",
     "output_type": "stream",
     "text": [
      "Numero de eventos registrado = 5\n",
      "Numero de usuarios en la base de datos = 7551\n",
      "Promedio de eventos por usuario = 32.33028737915508\n",
      "2019-07-25 04:43:36\n",
      "2019-08-07 21:15:17\n",
      "          date  event_name\n",
      "0   2019-07-25           9\n",
      "1   2019-07-26          31\n",
      "2   2019-07-27          55\n",
      "3   2019-07-28         105\n",
      "4   2019-07-29         184\n",
      "5   2019-07-30         413\n",
      "6   2019-07-31        2031\n",
      "7   2019-08-01       36229\n",
      "8   2019-08-02       35606\n",
      "9   2019-08-03       33351\n",
      "10  2019-08-04       33033\n",
      "11  2019-08-05       36113\n",
      "12  2019-08-06       35822\n",
      "13  2019-08-07       31144\n"
     ]
    },
    {
     "data": {
      "image/png": "[encoded data removed]",
      "text/plain": [
       "<Figure size 640x480 with 1 Axes>"
      ]
     },
     "metadata": {},
     "output_type": "display_data"
    }
   ],
   "source": [
    "event_unique = logs['event_name'].nunique()\n",
    "user_nunique = logs['id'].nunique()\n",
    "avg_event_user = logs.groupby('id').agg({'event_name':['count']}).mean()\n",
    "\n",
    "print(f'Number of events recorded =',event_unique)\n",
    "print(f'Number of users in the database =',user_nunique)\n",
    "print(f'Average events per user =',(float(avg_event_user)))\n",
    "print(logs['event_time'].min())\n",
    "print(logs['event_time'].max())\n",
    "\n",
    "events_by_user = logs.groupby(['date'])['event_name'].count()\n",
    "events_by_user = events_by_user.to_frame()\n",
    "events_by_user = events_by_user.reset_index()\n",
    "\n",
    "print(events_by_user)\n",
    "events_by_user.plot(kind= 'bar',x='date', y = 'event_name') # I consider the bar graph to be the most efficient for determining the stability period of the data.\n",
    "plt.show()"
   ]
  },
  {
   "cell_type": "markdown",
   "metadata": {},
   "source": [
    "# Data Verification 1\n",
    "\n",
    "We validated the behavior by date to determine the data volume and potential disruptions. We observed that the data behavior appears normal starting from 2019-08-01. The number of recorded events is 5, the average number of events per user is 32.3, and the total number of users in the database is 7,551."
   ]
  },
  {
   "cell_type": "code",
   "execution_count": 6,
   "metadata": {},
   "outputs": [
    {
     "name": "stdout",
     "output_type": "stream",
     "text": [
      "Numero de eventos registrado = 5\n",
      "Numero de usuarios en la base de datos = 7534\n",
      "Promedio de eventos por usuario = 32.02787363950093\n",
      "2019-08-01 00:07:28\n",
      "2019-08-07 21:15:17\n",
      "exp_id\n",
      "246    2484\n",
      "247    2513\n",
      "248    2537\n",
      "Name: id, dtype: int64\n"
     ]
    }
   ],
   "source": [
    "logs_ = logs[logs['event_time'] > '2019-08-01'] # I create a new DF to discard non-relevant data\n",
    "\n",
    "event_unique_ = logs_['event_name'].nunique() # We perform the same calculations as above to be able to compare and determine if the data we discard may be relevant.\n",
    "user_nunique_ = logs_['id'].nunique()\n",
    "avg_event_user_ = logs_.groupby('id').agg({'event_name':['count']}).mean()\n",
    "\n",
    "unique_group = logs_.groupby('exp_id')['id'].nunique()\n",
    "\n",
    "print(f'Number of events recorded =',event_unique_)\n",
    "print(f'Number of users in the database =',user_nunique_)\n",
    "print(f'Average events per user=',(float(avg_event_user_)))\n",
    "print(logs_['event_time'].min())\n",
    "print(logs_['event_time'].max())\n",
    "print(unique_group)\n"
   ]
  },
  {
   "cell_type": "markdown",
   "metadata": {},
   "source": [
    "# Data Verification 2\n",
    "\n",
    "Initially, we applied a filter to our data, discarding all values before the date 2019-08-01. We observed that the information was not significantly altered. The number of recorded events remained the same, and the total number of users decreased by 17, resulting in a new total of 7,517 users. The average number of events per user decreased slightly from 32.3 to 32.02. Upon validating the users by experiment, we found that the three codes contain similar data."
   ]
  },
  {
   "cell_type": "code",
   "execution_count": 7,
   "metadata": {},
   "outputs": [
    {
     "data": {
      "text/plain": [
       "<function matplotlib.pyplot.show(close=None, block=None)>"
      ]
     },
     "execution_count": 7,
     "metadata": {},
     "output_type": "execute_result"
    },
    {
     "data": {
      "image/png": "[encoded data removed]",
      "text/plain": [
       "<Figure size 640x480 with 1 Axes>"
      ]
     },
     "metadata": {},
     "output_type": "display_data"
    },
    {
     "data": {
      "image/png": "[encoded data removed]",
      "text/plain": [
       "<Figure size 640x480 with 1 Axes>"
      ]
     },
     "metadata": {},
     "output_type": "display_data"
    }
   ],
   "source": [
    "events_sequence = logs_.groupby('event_name').agg({'id':'count'}).sort_values(by = 'id',ascending = False)\n",
    "unique_sequence = logs_.groupby('event_name').agg({'id':'nunique'}).sort_values(by = 'id',ascending = False)\n",
    "session_sequence = logs_.pivot_table(index = 'exp_id', columns = 'event_name', values = 'id', aggfunc = 'count')\n",
    "session_sequence = session_sequence.fillna(0)\n",
    "session_sequence = session_sequence.reset_index()\n",
    "session_sequence = session_sequence[['exp_id','MainScreenAppear','Tutorial', 'OffersScreenAppear', 'CartScreenAppear', 'PaymentScreenSuccessful']]\n",
    "\n",
    "\n",
    "id_sequence = logs_.pivot_table(index = 'exp_id', columns = 'event_name', values = 'id', aggfunc = 'nunique')\n",
    "id_sequence = id_sequence.fillna(0)\n",
    "id_sequence = id_sequence.reset_index()\n",
    "id_sequence = id_sequence[['exp_id','MainScreenAppear','Tutorial', 'OffersScreenAppear', 'CartScreenAppear', 'PaymentScreenSuccessful']]\n",
    "\n",
    "events_sequence.plot(kind = 'bar', title = 'Volume of sessions per event')\n",
    "unique_sequence.plot(kind = 'bar', title = 'Volume of users per event')\n",
    "\n",
    "plt.show"
   ]
  },
  {
   "cell_type": "code",
   "execution_count": 8,
   "metadata": {},
   "outputs": [
    {
     "data": {
      "image/png": "[encoded data removed]",
      "text/plain": [
       "<Figure size 640x480 with 1 Axes>"
      ]
     },
     "metadata": {},
     "output_type": "display_data"
    },
    {
     "name": "stdout",
     "output_type": "stream",
     "text": [
      "         Sesiones  Usuarios\n",
      "etapa_1      39.0      62.0\n",
      "etapa_2      91.0      81.0\n",
      "etapa_3      81.0      95.0\n",
      "Numero de usuarios en todas las etapas =  3429\n"
     ]
    }
   ],
   "source": [
    "# Funnel analysis by number of sessions, we discard the data for the tutorial, since the number of users seems irrelevant\n",
    "etapa_1 = ((session_sequence['OffersScreenAppear'].sum())/(session_sequence['MainScreenAppear'].sum())*100).round()\n",
    "etapa_2 = ((session_sequence['CartScreenAppear'].sum())/(session_sequence['OffersScreenAppear'].sum())*100).round()\n",
    "etapa_3 = ((session_sequence['PaymentScreenSuccessful'].sum())/(session_sequence['CartScreenAppear'].sum())*100).round()\n",
    "\n",
    "# Funnel analysis by user\n",
    "\n",
    "etapa_1_id = ((id_sequence['OffersScreenAppear'].sum())/(id_sequence['MainScreenAppear'].sum())*100).round()\n",
    "etapa_2_id = ((id_sequence['CartScreenAppear'].sum())/(id_sequence['OffersScreenAppear'].sum())*100).round()\n",
    "etapa_3_id = ((id_sequence['PaymentScreenSuccessful'].sum())/(id_sequence['CartScreenAppear'].sum())*100).round()\n",
    "\n",
    "# Users at all stages\n",
    "\n",
    "usuarios_etapas = logs_.pivot_table(index = 'id', columns = 'event_name', values = 'date', aggfunc = 'count')\n",
    "usuarios_etapas = usuarios_etapas.fillna(0)\n",
    "usuarios_etapas = usuarios_etapas.reset_index()\n",
    "id_filtro_1 = usuarios_etapas[(usuarios_etapas['MainScreenAppear'] != 0)&(usuarios_etapas['OffersScreenAppear'] != 0)&(usuarios_etapas['CartScreenAppear'] != 0)&(usuarios_etapas['PaymentScreenSuccessful'] != 0)]\n",
    "user_all_stages = id_filtro_1['id'].count()\n",
    "\n",
    "data = {'Sesiones': [etapa_1, etapa_2, etapa_3], 'Usuarios': [etapa_1_id, etapa_2_id, etapa_3_id]}\n",
    "\n",
    "conversion = pd.DataFrame(data = data, index = ['etapa_1', 'etapa_2', 'etapa_3'])\n",
    "\n",
    "conversion.plot(kind = 'bar', title = 'Conversion rate number of sessions and number of users')\n",
    "\n",
    "plt.show()\n",
    "print(conversion)\n",
    "print(f'Number of users in all stages = ',user_all_stages)"
   ]
  },
  {
   "cell_type": "markdown",
   "metadata": {},
   "source": [
    "# Event Analysis\n",
    "\n",
    "In the first part of the analysis, I compared the volume of sessions and the number of users per event. While the volumes are different, the behavior is similar for both. We established an order that will guide us through the evaluation of the stages. \"MainScreenAppear\" is the most popular event, where most users tend to stay, while \"Tutorial\" is the least important event and is quite irrelevant. It’s difficult to understand the role of the \"Tutorial\" within the user funnel.\n",
    "\n",
    "Thanks to this initial analysis, we were able to define the stages of the funnel, which are as follows:\n",
    "\n",
    "Stage 1: MainScreenAppear to OffersScreenAppear\n",
    "Stage 2: OffersScreenAppear to CartScreenAppear\n",
    "Stage 3: CartScreenAppear to PaymentScreenSuccessful\n",
    "Additionally, we compared the number of sessions and the number of users, showing similar trends but different percentages. Stage 1 has the lowest conversion rate in both scenarios, but the percentage of users is higher than the number of sessions, suggesting that some users need multiple sessions before progressing to the next event. In Stage 2, we noticed a higher percentage of sessions than users, indicating that some users pass through this stage more than once. For Stage 3, which determines the user’s purchase, we observed a higher conversion rate among users, suggesting that some may need more than one visit to their shopping cart before completing the purchase.\n",
    "\n",
    "Finally, we calculated the number of users who passed through all the stages, which amounted to 3,429 users, representing 45% of the total users who entered the homepage.\n"
   ]
  },
  {
   "cell_type": "code",
   "execution_count": 9,
   "metadata": {},
   "outputs": [
    {
     "name": "stdout",
     "output_type": "stream",
     "text": [
      "exp_id\n",
      "246    2484\n",
      "247    2513\n",
      "248    2537\n",
      "Name: id, dtype: int64\n",
      "                       id  exp_id  MainScreenAppear  OffersScreenAppear  \\\n",
      "0        6888746892508752     246               1.0                 0.0   \n",
      "1        6909561520679493     247               2.0                 1.0   \n",
      "2        6922444491712477     246              19.0                12.0   \n",
      "3        7435777799948366     248               6.0                 0.0   \n",
      "4        7702139951469979     247              40.0                87.0   \n",
      "...                   ...     ...               ...                 ...   \n",
      "7529  9217594193087726423     246               0.0                 3.0   \n",
      "7530  9219463515465815368     248              11.0                 4.0   \n",
      "7531  9220879493065341500     246               4.0                 1.0   \n",
      "7532  9221926045299980007     246               7.0                 0.0   \n",
      "7533  9222603179720523844     248              59.0                 0.0   \n",
      "\n",
      "      CartScreenAppear  PaymentScreenSuccessful  Tutorial  \n",
      "0                  0.0                      0.0       0.0  \n",
      "1                  1.0                      1.0       0.0  \n",
      "2                  8.0                      8.0       0.0  \n",
      "3                  0.0                      0.0       0.0  \n",
      "4                  5.0                      5.0       0.0  \n",
      "...                ...                      ...       ...  \n",
      "7529               3.0                      3.0       0.0  \n",
      "7530               1.0                      1.0       0.0  \n",
      "7531               1.0                      0.0       0.0  \n",
      "7532               0.0                      0.0       0.0  \n",
      "7533               0.0                      0.0       0.0  \n",
      "\n",
      "[7534 rows x 7 columns]\n"
     ]
    }
   ],
   "source": [
    "# A/A testing starts\n",
    "# I will make conversion rates for each user based on the previously described stages, so we can make a statistical comparison between experiment groups.\n",
    "session_by_user = logs_.pivot_table(index = 'id', columns = 'event_name', values = 'event_time', aggfunc = 'count')\n",
    "session_by_user = session_by_user.fillna(0)\n",
    "session_by_user = session_by_user.reset_index()\n",
    "\n",
    "exp_list = (logs_[['id','exp_id']]).drop_duplicates()\n",
    "\n",
    "exp_session = session_by_user.merge(exp_list, on = 'id') # I make a new data frame that contains the information on sessions per user and which experiment group they belong to.\n",
    "exp_session = exp_session[['id','exp_id','MainScreenAppear', 'OffersScreenAppear', 'CartScreenAppear', 'PaymentScreenSuccessful', 'Tutorial']] # I reorder the columns according to the funnel proposed above, we leave the tutorial column at the end, since it is outside the stages\n",
    "\n",
    "print(user_by_group)\n",
    "print(exp_session)"
   ]
  },
  {
   "cell_type": "code",
   "execution_count": 10,
   "metadata": {},
   "outputs": [
    {
     "name": "stdout",
     "output_type": "stream",
     "text": [
      "                       id  exp_id  MainScreenAppear  OffersScreenAppear  \\\n",
      "0        6888746892508752     246               1.0                 0.0   \n",
      "1        6909561520679493     247               2.0                 1.0   \n",
      "2        6922444491712477     246              19.0                12.0   \n",
      "3        7435777799948366     248               6.0                 0.0   \n",
      "4        7702139951469979     247              40.0                87.0   \n",
      "...                   ...     ...               ...                 ...   \n",
      "7529  9217594193087726423     246               0.0                 3.0   \n",
      "7530  9219463515465815368     248              11.0                 4.0   \n",
      "7531  9220879493065341500     246               4.0                 1.0   \n",
      "7532  9221926045299980007     246               7.0                 0.0   \n",
      "7533  9222603179720523844     248              59.0                 0.0   \n",
      "\n",
      "      CartScreenAppear  PaymentScreenSuccessful  Tutorial  etapa_1  etapa_2  \\\n",
      "0                  0.0                      0.0       0.0      0.0      0.0   \n",
      "1                  1.0                      1.0       0.0     50.0    100.0   \n",
      "2                  8.0                      8.0       0.0     63.0     67.0   \n",
      "3                  0.0                      0.0       0.0      0.0      0.0   \n",
      "4                  5.0                      5.0       0.0    217.0      6.0   \n",
      "...                ...                      ...       ...      ...      ...   \n",
      "7529               3.0                      3.0       0.0      0.0    100.0   \n",
      "7530               1.0                      1.0       0.0     36.0     25.0   \n",
      "7531               1.0                      0.0       0.0     25.0    100.0   \n",
      "7532               0.0                      0.0       0.0      0.0      0.0   \n",
      "7533               0.0                      0.0       0.0      0.0      0.0   \n",
      "\n",
      "      etapa_3  total_session  \n",
      "0         0.0            1.0  \n",
      "1       100.0            5.0  \n",
      "2       100.0           47.0  \n",
      "3         0.0            6.0  \n",
      "4       100.0          137.0  \n",
      "...       ...            ...  \n",
      "7529    100.0            9.0  \n",
      "7530    100.0           17.0  \n",
      "7531      0.0            6.0  \n",
      "7532      0.0            7.0  \n",
      "7533      0.0           59.0  \n",
      "\n",
      "[7534 rows x 11 columns]\n"
     ]
    }
   ],
   "source": [
    "# Calculation of conversion percentage for each stage\n",
    "\n",
    "exp_session['etapa_1'] = ((exp_session['OffersScreenAppear']/exp_session['MainScreenAppear'])*100).round()\n",
    "exp_session['etapa_2'] = ((exp_session['CartScreenAppear']/exp_session['OffersScreenAppear'])*100).round()\n",
    "exp_session['etapa_3'] = ((exp_session['PaymentScreenSuccessful']/exp_session['CartScreenAppear'])*100).round()\n",
    "\n",
    "exp_session = exp_session.fillna(0)\n",
    "exp_session['etapa_1'] = exp_session['etapa_1'].replace([np.inf], 0) # I use this function to correct those values ​​that are divided by 0, some users do not fully complete the funnel\n",
    "exp_session['etapa_2'] = exp_session['etapa_2'].replace([np.inf], 0)\n",
    "exp_session['etapa_3'] = exp_session['etapa_3'].replace([np.inf], 0)\n",
    "exp_session['total_session'] = exp_session['MainScreenAppear'] + exp_session['OffersScreenAppear'] + exp_session['CartScreenAppear'] + exp_session['PaymentScreenSuccessful'] + exp_session['Tutorial']\n",
    "\n",
    "print(exp_session)\n"
   ]
  },
  {
   "cell_type": "code",
   "execution_count": 11,
   "metadata": {},
   "outputs": [
    {
     "name": "stdout",
     "output_type": "stream",
     "text": [
      "p-value: MannwhitneyuResult(statistic=3129241.0, pvalue=0.8738377464685005)\n",
      "No se pudo rechazar la hipótesis nula: no podemos sacar conclusiones sobre la diferencia\n"
     ]
    }
   ],
   "source": [
    "# Statistical validation for control groups, test 1 number of sessions\n",
    "exp_246 = exp_session.query(\"exp_id == 246\")['total_session'].sort_values()\n",
    "exp_247 = exp_session.query(\"exp_id == 247\")['total_session'].sort_values()\n",
    "\n",
    "alpha = 0.1\n",
    "\n",
    "test_1 = st.mannwhitneyu(exp_246, exp_247)\n",
    "\n",
    "print('p-value:', test_1)\n",
    "\n",
    "if (test_1.pvalue < alpha):\n",
    "    print(\"Null hypothesis rejected: there are significant differences between the distributions of the two groups compared\")\n",
    "else:\n",
    "    print(\"The null hypothesis could not be rejected: we cannot draw conclusions about the difference\")"
   ]
  },
  {
   "cell_type": "code",
   "execution_count": 12,
   "metadata": {},
   "outputs": [
    {
     "name": "stdout",
     "output_type": "stream",
     "text": [
      "p-value: MannwhitneyuResult(statistic=3102302.0, pvalue=0.7115215409169378)\n",
      "No se pudo rechazar la hipótesis nula: no podemos sacar conclusiones sobre la diferencia\n"
     ]
    }
   ],
   "source": [
    "# Statistical validation for control groups, test 2 most popular event MainScreenAppear\n",
    "\n",
    "exp_246_2 = exp_session.query(\"exp_id == 246\")['MainScreenAppear'].sort_values()\n",
    "exp_247_2 = exp_session.query(\"exp_id == 247\")['MainScreenAppear'].sort_values()\n",
    "\n",
    "alpha = 0.1\n",
    "\n",
    "test_2 = st.mannwhitneyu(exp_246_2, exp_247_2)\n",
    "\n",
    "print('p-value:', test_2)\n",
    "\n",
    "if (test_2.pvalue < alpha):\n",
    "    print(\"Null hypothesis rejected: there are significant differences between the distributions of the two groups compared\")\n",
    "else:\n",
    "    print(\"The null hypothesis could not be rejected: we cannot draw conclusions about the difference\")"
   ]
  },
  {
   "cell_type": "code",
   "execution_count": 13,
   "metadata": {},
   "outputs": [
    {
     "name": "stdout",
     "output_type": "stream",
     "text": [
      "p-value: MannwhitneyuResult(statistic=3176081.0, pvalue=0.2666235086372193)\n",
      "No se pudo rechazar la hipótesis nula: no podemos sacar conclusiones sobre la diferencia\n"
     ]
    }
   ],
   "source": [
    "# Statistical validation for control groups, test 3 OffersScreenAppear event\n",
    "\n",
    "exp_246_3 = exp_session.query(\"exp_id == 246\")['OffersScreenAppear'].sort_values()\n",
    "exp_247_3 = exp_session.query(\"exp_id == 247\")['OffersScreenAppear'].sort_values()\n",
    "\n",
    "alpha = 0.1\n",
    "\n",
    "test_3 = st.mannwhitneyu(exp_246_3, exp_247_3)\n",
    "\n",
    "print('p-value:', test_3)\n",
    "\n",
    "if (test_3.pvalue < alpha):\n",
    "    print(\"Null hypothesis rejected: there are significant differences between the distributions of the two groups compared\")\n",
    "else:\n",
    "    print(\"The null hypothesis could not be rejected: we cannot draw conclusions about the difference\")"
   ]
  },
  {
   "cell_type": "code",
   "execution_count": 14,
   "metadata": {},
   "outputs": [
    {
     "name": "stdout",
     "output_type": "stream",
     "text": [
      "p-value: MannwhitneyuResult(statistic=3187544.0, pvalue=0.1638738379820197)\n",
      "No se pudo rechazar la hipótesis nula: no podemos sacar conclusiones sobre la diferencia\n"
     ]
    }
   ],
   "source": [
    "# Statistical validation for control groups, test 4 CartScreenAppear event\n",
    "\n",
    "exp_246_4 = exp_session.query(\"exp_id == 246\")['CartScreenAppear'].sort_values()\n",
    "exp_247_4 = exp_session.query(\"exp_id == 247\")['CartScreenAppear'].sort_values()\n",
    "\n",
    "alpha = 0.1\n",
    "\n",
    "test_4 = st.mannwhitneyu(exp_246_4, exp_247_4)\n",
    "\n",
    "print('p-value:', test_4)\n",
    "\n",
    "if (test_4.pvalue < alpha):\n",
    "    print(\"Null hypothesis rejected: there are significant differences between the distributions of the two groups compared\")\n",
    "else:\n",
    "    print(\"The null hypothesis could not be rejected: we cannot draw conclusions about the difference\")"
   ]
  },
  {
   "cell_type": "code",
   "execution_count": 15,
   "metadata": {},
   "outputs": [
    {
     "name": "stdout",
     "output_type": "stream",
     "text": [
      "p-value: MannwhitneyuResult(statistic=3203394.5, pvalue=0.08045883346942552)\n",
      "Hipótesis nula rechazada: existen diferencias significativas entre las distribuciones de los dos grupos comparados\n"
     ]
    }
   ],
   "source": [
    "# Statistical validation for control groups, test 5 PaymentScreenSuccessful event\n",
    "\n",
    "exp_246_5 = exp_session.query(\"exp_id == 246\")['PaymentScreenSuccessful'].sort_values()\n",
    "exp_247_5 = exp_session.query(\"exp_id == 247\")['PaymentScreenSuccessful'].sort_values()\n",
    "\n",
    "alpha = 0.1\n",
    "\n",
    "test_5 = st.mannwhitneyu(exp_246_5, exp_247_5)\n",
    "\n",
    "print('p-value:', test_5)\n",
    "\n",
    "if (test_5.pvalue < alpha):\n",
    "    print(\"Null hypothesis rejected: there are significant differences between the distributions of the two groups compared\")\n",
    "else:\n",
    "    print(\"The null hypothesis could not be rejected: we cannot draw conclusions about the difference\")"
   ]
  },
  {
   "cell_type": "markdown",
   "metadata": {},
   "source": [
    "# A/A Test Analysis\n",
    "\n",
    "I conducted 5 tests to validate if the control groups were divided correctly, comparing the statistical difference for each event. We started with the overall number of sessions, moved on to the most popular event, and concluded with the least popular event. The first 4 tests passed successfully based on the established standards, but the final test showed a significant difference. Another important point to highlight is the p-value, which decreases with each test, indicating a trend for the data to become more distorted as they move through the funnel. I would affirm that the groups were divided correctly, as 4 out of the 5 tests passed. Clearly, there is a trend for both groups to diverge, but this only becomes apparent in the final phase, where the data becomes more limited."
   ]
  },
  {
   "cell_type": "code",
   "execution_count": 16,
   "metadata": {},
   "outputs": [
    {
     "name": "stdout",
     "output_type": "stream",
     "text": [
      "p-value: MannwhitneyuResult(statistic=3237592.5, pvalue=0.3357727283211722)\n",
      "No se pudo rechazar la hipótesis nula: no podemos sacar conclusiones sobre la diferencia\n"
     ]
    }
   ],
   "source": [
    "# Statistical validation for the test group 248, against the control group 247. Test 1 number of sessions\n",
    "exp_248 = exp_session.query(\"exp_id == 248\")['total_session'].sort_values()\n",
    "exp_247 = exp_session.query(\"exp_id == 247\")['total_session'].sort_values()\n",
    "\n",
    "alpha = 0.1\n",
    "\n",
    "test_cont_1 = st.mannwhitneyu(exp_248, exp_247)\n",
    "\n",
    "print('p-value:', test_cont_1)\n",
    "\n",
    "if (test_cont_1.pvalue < alpha):\n",
    "    print(\"Null hypothesis rejected: there are significant differences between the distributions of the two groups compared\")\n",
    "else:\n",
    "    print(\"The null hypothesis could not be rejected: we cannot draw conclusions about the difference\")"
   ]
  },
  {
   "cell_type": "code",
   "execution_count": 17,
   "metadata": {},
   "outputs": [
    {
     "name": "stdout",
     "output_type": "stream",
     "text": [
      "p-value: MannwhitneyuResult(statistic=3240175.0, pvalue=0.3111301435039656)\n",
      "No se pudo rechazar la hipótesis nula: no podemos sacar conclusiones sobre la diferencia\n"
     ]
    }
   ],
   "source": [
    "# Statistical validation for the test group 248, against the control group 247. Test 2 MainScreenAppear\n",
    "\n",
    "exp_248_2 = exp_session.query(\"exp_id == 248\")['MainScreenAppear'].sort_values()\n",
    "exp_247_2 = exp_session.query(\"exp_id == 247\")['MainScreenAppear'].sort_values()\n",
    "\n",
    "alpha = 0.1\n",
    "\n",
    "test_cont_2 = st.mannwhitneyu(exp_248_2, exp_247_2)\n",
    "\n",
    "print('p-value:', test_cont_2)\n",
    "\n",
    "if (test_cont_2.pvalue < alpha):\n",
    "    print(\"Null hypothesis rejected: there are significant differences between the distributions of the two groups compared\")\n",
    "else:\n",
    "    print(\"The null hypothesis could not be rejected: we cannot draw conclusions about the difference\")"
   ]
  },
  {
   "cell_type": "code",
   "execution_count": 18,
   "metadata": {},
   "outputs": [
    {
     "name": "stdout",
     "output_type": "stream",
     "text": [
      "p-value: MannwhitneyuResult(statistic=3180052.5, pvalue=0.8781267952390089)\n",
      "No se pudo rechazar la hipótesis nula: no podemos sacar conclusiones sobre la diferencia\n"
     ]
    }
   ],
   "source": [
    "# Statistical validation for the test group 248, against the control group 247. Test 3 event OffersScreenAppear\n",
    "\n",
    "exp_248_3 = exp_session.query(\"exp_id == 248\")['OffersScreenAppear'].sort_values()\n",
    "exp_247_3 = exp_session.query(\"exp_id == 247\")['OffersScreenAppear'].sort_values()\n",
    "\n",
    "alpha = 0.1\n",
    "\n",
    "test_cont_3 = st.mannwhitneyu(exp_248_3, exp_247_3)\n",
    "\n",
    "print('p-value:', test_cont_3)\n",
    "\n",
    "if (test_cont_3.pvalue < alpha):\n",
    "    print(\"Null hypothesis rejected: there are significant differences between the distributions of the two groups compared\")\n",
    "else:\n",
    "    print(\"The null hypothesis could not be rejected: we cannot draw conclusions about the difference\")"
   ]
  },
  {
   "cell_type": "code",
   "execution_count": 19,
   "metadata": {},
   "outputs": [
    {
     "name": "stdout",
     "output_type": "stream",
     "text": [
      "p-value: MannwhitneyuResult(statistic=3206149.0, pvalue=0.7025025502285716)\n",
      "No se pudo rechazar la hipótesis nula: no podemos sacar conclusiones sobre la diferencia\n"
     ]
    }
   ],
   "source": [
    "# Statistical validation for the test group 248, against the control group 247. Test 4 CartScreenAppear event\n",
    "\n",
    "exp_248_4 = exp_session.query(\"exp_id == 248\")['CartScreenAppear'].sort_values()\n",
    "exp_247_4 = exp_session.query(\"exp_id == 247\")['CartScreenAppear'].sort_values()\n",
    "\n",
    "alpha = 0.1\n",
    "\n",
    "test_cont_4 = st.mannwhitneyu(exp_248_4, exp_247_4)\n",
    "\n",
    "print('p-value:', test_cont_4)\n",
    "\n",
    "if (test_cont_4.pvalue < alpha):\n",
    "    print(\"Null hypothesis rejected: there are significant differences between the distributions of the two groups compared\")\n",
    "else:\n",
    "    print(\"The null hypothesis could not be rejected: we cannot draw conclusions about the difference\")"
   ]
  },
  {
   "cell_type": "code",
   "execution_count": 20,
   "metadata": {},
   "outputs": [
    {
     "name": "stdout",
     "output_type": "stream",
     "text": [
      "p-value: MannwhitneyuResult(statistic=3223808.0, pvalue=0.4485941318325527)\n",
      "No se pudo rechazar la hipótesis nula: no podemos sacar conclusiones sobre la diferencia\n"
     ]
    }
   ],
   "source": [
    "# Statistical validation for the test group 248, against the control group 247. Test 5 PaymentScreenSuccessful event\n",
    "exp_248_5 = exp_session.query(\"exp_id == 248\")['PaymentScreenSuccessful'].sort_values()\n",
    "exp_247_5 = exp_session.query(\"exp_id == 247\")['PaymentScreenSuccessful'].sort_values()\n",
    "\n",
    "alpha = 0.1\n",
    "\n",
    "test_cont_5 = st.mannwhitneyu(exp_248_5, exp_247_5)\n",
    "\n",
    "print('p-value:', test_cont_5)\n",
    "\n",
    "if (test_cont_5.pvalue < alpha):\n",
    "    print(\"Null hypothesis rejected: there are significant differences between the distributions of the two groups compared\")\n",
    "else:\n",
    "    print(\"The null hypothesis could not be rejected: we cannot draw conclusions about the difference\")"
   ]
  },
  {
   "cell_type": "markdown",
   "metadata": {},
   "source": [
    "# A/B Analysis: Test Group 248 vs Control Group 247\n",
    "\n",
    "Initially, for the A/B analysis, we selected Group 247, as it showed a better proportion compared to Control Group 248. In the 5 tests conducted, we found no statistically significant differences, unlike the control analysis, which presented some differences between groups.\n",
    "\n",
    "The A/B analysis reveals a trend in the p-value, which is far from the alpha value. The comparison between Groups 248 and 247 appears effective and shows significant differences at each event.\n",
    "\n",
    "In conclusion, we determined that the changes made to the platform do not affect user behavior. The test group and the control group exhibited very similar behavior, providing confidence to proceed with the changes."
   ]
  }
 ],
 "metadata": {
  "ExecuteTimeLog": [
   {
    "duration": 154,
    "start_time": "2024-10-15T09:33:42.738Z"
   },
   {
    "duration": 302,
    "start_time": "2024-10-15T09:33:48.784Z"
   },
   {
    "duration": 193,
    "start_time": "2024-10-15T09:33:49.927Z"
   },
   {
    "duration": 5,
    "start_time": "2024-10-15T09:33:50.944Z"
   },
   {
    "duration": 5,
    "start_time": "2024-10-15T09:34:08.886Z"
   },
   {
    "duration": 5,
    "start_time": "2024-10-15T09:34:09.811Z"
   },
   {
    "duration": 4,
    "start_time": "2024-10-15T09:34:45.318Z"
   },
   {
    "duration": 214,
    "start_time": "2024-10-15T09:36:27.957Z"
   },
   {
    "duration": 4,
    "start_time": "2024-10-15T09:36:30.431Z"
   },
   {
    "duration": 181,
    "start_time": "2024-10-15T09:36:36.973Z"
   },
   {
    "duration": 4,
    "start_time": "2024-10-15T09:36:38.254Z"
   },
   {
    "duration": 15,
    "start_time": "2024-10-15T09:37:19.272Z"
   },
   {
    "duration": 182,
    "start_time": "2024-10-15T09:37:41.854Z"
   },
   {
    "duration": 14,
    "start_time": "2024-10-15T09:37:43.838Z"
   },
   {
    "duration": 5,
    "start_time": "2024-10-15T09:37:49.860Z"
   },
   {
    "duration": 4,
    "start_time": "2024-10-15T09:37:54.006Z"
   },
   {
    "duration": 181,
    "start_time": "2024-10-15T09:38:33.319Z"
   },
   {
    "duration": 5,
    "start_time": "2024-10-15T09:38:35.253Z"
   },
   {
    "duration": 98,
    "start_time": "2024-10-15T09:39:18.709Z"
   },
   {
    "duration": 4,
    "start_time": "2024-10-15T09:39:20.274Z"
   },
   {
    "duration": 15,
    "start_time": "2024-10-15T09:39:36.114Z"
   },
   {
    "duration": 5,
    "start_time": "2024-10-15T09:39:49.399Z"
   },
   {
    "duration": 15,
    "start_time": "2024-10-15T09:40:48.886Z"
   },
   {
    "duration": 16,
    "start_time": "2024-10-15T09:42:17.704Z"
   },
   {
    "duration": 4,
    "start_time": "2024-10-15T09:46:22.246Z"
   },
   {
    "duration": 16,
    "start_time": "2024-10-15T09:46:25.199Z"
   },
   {
    "duration": 15,
    "start_time": "2024-10-15T09:50:53.229Z"
   },
   {
    "duration": 16,
    "start_time": "2024-10-15T09:51:01.961Z"
   },
   {
    "duration": 6,
    "start_time": "2024-10-15T09:51:23.071Z"
   },
   {
    "duration": 16,
    "start_time": "2024-10-15T09:51:25.476Z"
   },
   {
    "duration": 29,
    "start_time": "2024-10-15T09:56:12.107Z"
   },
   {
    "duration": 17,
    "start_time": "2024-10-15T09:56:15.568Z"
   },
   {
    "duration": 2,
    "start_time": "2024-10-15T09:57:09.465Z"
   },
   {
    "duration": 96,
    "start_time": "2024-10-15T09:57:10.480Z"
   },
   {
    "duration": 5,
    "start_time": "2024-10-15T09:57:11.780Z"
   },
   {
    "duration": 17,
    "start_time": "2024-10-15T09:57:13.838Z"
   },
   {
    "duration": 29,
    "start_time": "2024-10-15T09:57:45.124Z"
   },
   {
    "duration": 16,
    "start_time": "2024-10-15T09:57:46.771Z"
   },
   {
    "duration": 3,
    "start_time": "2024-10-15T09:59:14.907Z"
   },
   {
    "duration": 96,
    "start_time": "2024-10-15T09:59:16.388Z"
   },
   {
    "duration": 5,
    "start_time": "2024-10-15T09:59:17.240Z"
   },
   {
    "duration": 16,
    "start_time": "2024-10-15T09:59:19.579Z"
   },
   {
    "duration": 160,
    "start_time": "2024-10-15T10:05:33.220Z"
   },
   {
    "duration": 75,
    "start_time": "2024-10-15T10:06:13.902Z"
   },
   {
    "duration": 31,
    "start_time": "2024-10-15T10:06:35.320Z"
   },
   {
    "duration": 16,
    "start_time": "2024-10-15T10:06:37.650Z"
   },
   {
    "duration": 3,
    "start_time": "2024-10-15T10:06:59.310Z"
   },
   {
    "duration": 96,
    "start_time": "2024-10-15T10:07:00.072Z"
   },
   {
    "duration": 6,
    "start_time": "2024-10-15T10:07:00.712Z"
   },
   {
    "duration": 17,
    "start_time": "2024-10-15T10:07:02.359Z"
   },
   {
    "duration": 3,
    "start_time": "2024-10-15T10:07:46.202Z"
   },
   {
    "duration": 97,
    "start_time": "2024-10-15T10:07:47.016Z"
   },
   {
    "duration": 6,
    "start_time": "2024-10-15T10:07:48.053Z"
   },
   {
    "duration": 16,
    "start_time": "2024-10-15T10:07:51.411Z"
   },
   {
    "duration": 86,
    "start_time": "2024-10-15T10:08:45.770Z"
   },
   {
    "duration": 24,
    "start_time": "2024-10-15T10:14:09.832Z"
   },
   {
    "duration": 30,
    "start_time": "2024-10-15T10:16:24.907Z"
   },
   {
    "duration": 17,
    "start_time": "2024-10-15T10:16:27.336Z"
   },
   {
    "duration": 42,
    "start_time": "2024-10-15T10:17:36.522Z"
   },
   {
    "duration": 17,
    "start_time": "2024-10-15T10:17:40.056Z"
   },
   {
    "duration": 11,
    "start_time": "2024-10-15T10:18:10.560Z"
   },
   {
    "duration": 17,
    "start_time": "2024-10-15T10:18:12.974Z"
   },
   {
    "duration": 6,
    "start_time": "2024-10-15T10:19:13.314Z"
   },
   {
    "duration": 17,
    "start_time": "2024-10-15T10:19:15.212Z"
   },
   {
    "duration": 2,
    "start_time": "2024-10-15T10:19:18.745Z"
   },
   {
    "duration": 94,
    "start_time": "2024-10-15T10:19:19.552Z"
   },
   {
    "duration": 5,
    "start_time": "2024-10-15T10:19:20.698Z"
   },
   {
    "duration": 17,
    "start_time": "2024-10-15T10:19:23.250Z"
   },
   {
    "duration": 2,
    "start_time": "2024-10-15T10:24:45.069Z"
   },
   {
    "duration": 93,
    "start_time": "2024-10-15T10:24:45.863Z"
   },
   {
    "duration": 6,
    "start_time": "2024-10-15T10:24:46.552Z"
   },
   {
    "duration": 16,
    "start_time": "2024-10-15T10:24:48.695Z"
   },
   {
    "duration": 119,
    "start_time": "2024-10-15T10:25:32.848Z"
   },
   {
    "duration": 22,
    "start_time": "2024-10-15T10:25:35.178Z"
   },
   {
    "duration": 280,
    "start_time": "2024-10-15T10:26:11.421Z"
   },
   {
    "duration": 76,
    "start_time": "2024-10-15T10:26:49.388Z"
   },
   {
    "duration": 81,
    "start_time": "2024-10-15T10:27:32.374Z"
   },
   {
    "duration": 91,
    "start_time": "2024-10-15T10:27:52.061Z"
   },
   {
    "duration": 80,
    "start_time": "2024-10-15T10:28:06.230Z"
   },
   {
    "duration": 30,
    "start_time": "2024-10-15T10:31:07.010Z"
   },
   {
    "duration": 2,
    "start_time": "2024-10-15T10:42:24.462Z"
   },
   {
    "duration": 97,
    "start_time": "2024-10-15T10:42:25.056Z"
   },
   {
    "duration": 6,
    "start_time": "2024-10-15T10:42:25.702Z"
   },
   {
    "duration": 15,
    "start_time": "2024-10-15T10:42:27.707Z"
   },
   {
    "duration": 78,
    "start_time": "2024-10-15T10:42:49.411Z"
   },
   {
    "duration": 76,
    "start_time": "2024-10-15T10:46:25.138Z"
   },
   {
    "duration": 157,
    "start_time": "2024-10-17T09:55:46.770Z"
   },
   {
    "duration": 342,
    "start_time": "2024-10-17T09:55:51.316Z"
   },
   {
    "duration": 128,
    "start_time": "2024-10-17T09:55:52.474Z"
   },
   {
    "duration": 9,
    "start_time": "2024-10-17T09:55:53.415Z"
   },
   {
    "duration": 18,
    "start_time": "2024-10-17T09:55:55.885Z"
   },
   {
    "duration": 19,
    "start_time": "2024-10-17T10:02:44.790Z"
   },
   {
    "duration": 33,
    "start_time": "2024-10-17T10:06:45.395Z"
   },
   {
    "duration": 18,
    "start_time": "2024-10-17T10:06:49.137Z"
   },
   {
    "duration": 2,
    "start_time": "2024-10-17T10:07:25.001Z"
   },
   {
    "duration": 109,
    "start_time": "2024-10-17T10:07:25.846Z"
   },
   {
    "duration": 6,
    "start_time": "2024-10-17T10:07:28.625Z"
   },
   {
    "duration": 17,
    "start_time": "2024-10-17T10:07:29.562Z"
   },
   {
    "duration": 31,
    "start_time": "2024-10-17T10:09:55.886Z"
   },
   {
    "duration": 19,
    "start_time": "2024-10-17T10:10:00.322Z"
   },
   {
    "duration": 12,
    "start_time": "2024-10-17T10:10:13.871Z"
   },
   {
    "duration": 18,
    "start_time": "2024-10-17T10:10:17.342Z"
   },
   {
    "duration": 11,
    "start_time": "2024-10-17T10:12:12.109Z"
   },
   {
    "duration": 18,
    "start_time": "2024-10-17T10:12:15.650Z"
   },
   {
    "duration": 215,
    "start_time": "2024-10-17T10:12:46.548Z"
   },
   {
    "duration": 30,
    "start_time": "2024-10-17T10:12:49.747Z"
   },
   {
    "duration": 54,
    "start_time": "2024-10-17T10:13:30.885Z"
   },
   {
    "duration": 19,
    "start_time": "2024-10-17T10:13:34.092Z"
   },
   {
    "duration": 398,
    "start_time": "2024-10-17T10:13:49.221Z"
   },
   {
    "duration": 81,
    "start_time": "2024-10-17T10:14:13.732Z"
   },
   {
    "duration": 3,
    "start_time": "2024-10-17T10:14:33.313Z"
   },
   {
    "duration": 95,
    "start_time": "2024-10-17T10:14:34.127Z"
   },
   {
    "duration": 183,
    "start_time": "2024-10-17T10:14:35.609Z"
   },
   {
    "duration": 83,
    "start_time": "2024-10-17T10:15:03.642Z"
   },
   {
    "duration": 84,
    "start_time": "2024-10-17T10:15:36.975Z"
   },
   {
    "duration": 25,
    "start_time": "2024-10-17T10:16:16.054Z"
   },
   {
    "duration": 86,
    "start_time": "2024-10-17T10:27:31.562Z"
   },
   {
    "duration": 81,
    "start_time": "2024-10-17T10:28:24.788Z"
   },
   {
    "duration": 81,
    "start_time": "2024-10-17T10:28:46.213Z"
   },
   {
    "duration": 273,
    "start_time": "2024-10-17T10:29:05.667Z"
   },
   {
    "duration": 3,
    "start_time": "2024-10-17T10:30:15.021Z"
   },
   {
    "duration": 100,
    "start_time": "2024-10-17T10:30:15.933Z"
   },
   {
    "duration": 594,
    "start_time": "2024-10-17T10:30:31.156Z"
   },
   {
    "duration": 8,
    "start_time": "2024-10-17T10:30:47.799Z"
   },
   {
    "duration": 18,
    "start_time": "2024-10-17T10:30:52.215Z"
   },
   {
    "duration": 3,
    "start_time": "2024-10-17T10:40:44.209Z"
   },
   {
    "duration": 97,
    "start_time": "2024-10-17T10:40:45.405Z"
   },
   {
    "duration": 5,
    "start_time": "2024-10-17T10:40:46.645Z"
   },
   {
    "duration": 17,
    "start_time": "2024-10-17T10:40:48.284Z"
   },
   {
    "duration": 2,
    "start_time": "2024-10-17T10:42:47.851Z"
   },
   {
    "duration": 98,
    "start_time": "2024-10-17T10:42:48.870Z"
   },
   {
    "duration": 5,
    "start_time": "2024-10-17T10:42:50.600Z"
   },
   {
    "duration": 17,
    "start_time": "2024-10-17T10:42:52.193Z"
   },
   {
    "duration": 375,
    "start_time": "2024-10-18T21:05:22.831Z"
   },
   {
    "duration": 167,
    "start_time": "2024-10-18T21:05:24.949Z"
   },
   {
    "duration": 6,
    "start_time": "2024-10-18T21:05:25.980Z"
   },
   {
    "duration": 20,
    "start_time": "2024-10-18T21:05:28.732Z"
   },
   {
    "duration": 543,
    "start_time": "2024-10-18T21:08:38.103Z"
   },
   {
    "duration": 9,
    "start_time": "2024-10-18T21:08:53.954Z"
   },
   {
    "duration": 17,
    "start_time": "2024-10-18T21:08:56.609Z"
   },
   {
    "duration": 9,
    "start_time": "2024-10-18T21:09:47.081Z"
   },
   {
    "duration": 18,
    "start_time": "2024-10-18T21:09:49.442Z"
   },
   {
    "duration": 51,
    "start_time": "2024-10-18T21:13:10.962Z"
   },
   {
    "duration": 30,
    "start_time": "2024-10-18T21:13:13.590Z"
   },
   {
    "duration": 117,
    "start_time": "2024-10-18T21:13:43.548Z"
   },
   {
    "duration": 34,
    "start_time": "2024-10-18T21:13:45.830Z"
   },
   {
    "duration": 14,
    "start_time": "2024-10-18T21:15:33.341Z"
   },
   {
    "duration": 20,
    "start_time": "2024-10-18T21:16:51.680Z"
   },
   {
    "duration": 13205,
    "start_time": "2024-10-18T21:18:34.711Z"
   },
   {
    "duration": 30,
    "start_time": "2024-10-18T21:19:15.392Z"
   },
   {
    "duration": 31,
    "start_time": "2024-10-18T21:21:20.744Z"
   },
   {
    "duration": 30,
    "start_time": "2024-10-18T21:22:08.796Z"
   },
   {
    "duration": 43,
    "start_time": "2024-10-18T21:23:18.118Z"
   },
   {
    "duration": 27,
    "start_time": "2024-10-18T21:24:21.251Z"
   },
   {
    "duration": 36,
    "start_time": "2024-10-18T21:26:46.685Z"
   },
   {
    "duration": 39,
    "start_time": "2024-10-18T21:27:54.181Z"
   },
   {
    "duration": 35,
    "start_time": "2024-10-18T21:28:02.330Z"
   },
   {
    "duration": 2234,
    "start_time": "2024-10-18T21:28:54.168Z"
   },
   {
    "duration": 107,
    "start_time": "2024-10-18T21:28:57.971Z"
   },
   {
    "duration": 105,
    "start_time": "2024-10-18T21:28:58.948Z"
   },
   {
    "duration": 31,
    "start_time": "2024-10-18T21:29:00.720Z"
   },
   {
    "duration": 35,
    "start_time": "2024-10-18T21:29:05.637Z"
   },
   {
    "duration": 36,
    "start_time": "2024-10-18T21:32:12.179Z"
   },
   {
    "duration": 37,
    "start_time": "2024-10-18T21:32:30.281Z"
   },
   {
    "duration": 87,
    "start_time": "2024-10-18T21:47:48.621Z"
   },
   {
    "duration": 92,
    "start_time": "2024-10-18T21:48:47.563Z"
   },
   {
    "duration": 203,
    "start_time": "2024-10-18T21:49:30.868Z"
   },
   {
    "duration": 91,
    "start_time": "2024-10-18T21:52:33.298Z"
   },
   {
    "duration": 115,
    "start_time": "2024-10-18T21:53:33.147Z"
   },
   {
    "duration": 480,
    "start_time": "2024-10-18T21:53:54.003Z"
   },
   {
    "duration": 232,
    "start_time": "2024-10-18T21:54:26.001Z"
   },
   {
    "duration": 205,
    "start_time": "2024-10-18T22:01:58.061Z"
   },
   {
    "duration": 369,
    "start_time": "2024-10-18T22:02:19.790Z"
   },
   {
    "duration": 203,
    "start_time": "2024-10-18T22:02:37.047Z"
   },
   {
    "duration": 180,
    "start_time": "2024-10-18T22:05:01.847Z"
   },
   {
    "duration": 188,
    "start_time": "2024-10-18T22:05:34.398Z"
   },
   {
    "duration": 199,
    "start_time": "2024-10-18T22:07:42.336Z"
   },
   {
    "duration": 30,
    "start_time": "2024-10-18T22:14:06.577Z"
   },
   {
    "duration": 18,
    "start_time": "2024-10-18T22:14:13.283Z"
   },
   {
    "duration": 40,
    "start_time": "2024-10-18T22:14:24.002Z"
   },
   {
    "duration": 44,
    "start_time": "2024-10-18T22:16:49.864Z"
   },
   {
    "duration": 49,
    "start_time": "2024-10-18T22:17:33.544Z"
   },
   {
    "duration": 50,
    "start_time": "2024-10-18T22:18:48.402Z"
   },
   {
    "duration": 159,
    "start_time": "2024-10-19T00:43:52.941Z"
   },
   {
    "duration": 2567,
    "start_time": "2024-10-19T00:44:01.383Z"
   },
   {
    "duration": 129,
    "start_time": "2024-10-19T00:44:05.231Z"
   },
   {
    "duration": 115,
    "start_time": "2024-10-19T00:44:06.661Z"
   },
   {
    "duration": 34,
    "start_time": "2024-10-19T00:44:09.881Z"
   },
   {
    "duration": 213,
    "start_time": "2024-10-19T00:44:12.551Z"
   },
   {
    "duration": 77,
    "start_time": "2024-10-19T00:44:20.729Z"
   },
   {
    "duration": 73,
    "start_time": "2024-10-19T00:47:45.937Z"
   },
   {
    "duration": 68,
    "start_time": "2024-10-19T00:48:24.180Z"
   },
   {
    "duration": 65,
    "start_time": "2024-10-19T00:48:44.741Z"
   },
   {
    "duration": 89,
    "start_time": "2024-10-19T01:09:54.782Z"
   },
   {
    "duration": 19,
    "start_time": "2024-10-19T01:10:36.221Z"
   },
   {
    "duration": 51,
    "start_time": "2024-10-19T01:18:20.535Z"
   },
   {
    "duration": 93,
    "start_time": "2024-10-19T02:02:09.916Z"
   },
   {
    "duration": 93,
    "start_time": "2024-10-19T02:04:24.009Z"
   },
   {
    "duration": 91,
    "start_time": "2024-10-19T02:08:06.216Z"
   },
   {
    "duration": 110,
    "start_time": "2024-10-19T02:12:27.270Z"
   },
   {
    "duration": 487,
    "start_time": "2024-10-19T02:13:45.795Z"
   },
   {
    "duration": 83,
    "start_time": "2024-10-19T02:14:16.791Z"
   },
   {
    "duration": 112,
    "start_time": "2024-10-19T02:14:25.941Z"
   },
   {
    "duration": 89,
    "start_time": "2024-10-19T02:14:55.009Z"
   },
   {
    "duration": 92,
    "start_time": "2024-10-19T02:15:34.341Z"
   },
   {
    "duration": 93,
    "start_time": "2024-10-19T02:19:56.723Z"
   },
   {
    "duration": 103,
    "start_time": "2024-10-19T02:44:51.556Z"
   },
   {
    "duration": 90,
    "start_time": "2024-10-19T02:46:09.406Z"
   },
   {
    "duration": 91,
    "start_time": "2024-10-19T02:47:05.558Z"
   },
   {
    "duration": 91,
    "start_time": "2024-10-19T02:51:14.710Z"
   },
   {
    "duration": 90,
    "start_time": "2024-10-19T02:52:38.811Z"
   },
   {
    "duration": 91,
    "start_time": "2024-10-19T02:54:05.145Z"
   },
   {
    "duration": 90,
    "start_time": "2024-10-19T02:54:35.456Z"
   },
   {
    "duration": 96,
    "start_time": "2024-10-19T02:57:58.245Z"
   },
   {
    "duration": 91,
    "start_time": "2024-10-19T03:01:01.957Z"
   },
   {
    "duration": 98,
    "start_time": "2024-10-19T03:02:09.225Z"
   },
   {
    "duration": 7,
    "start_time": "2024-10-19T03:10:39.341Z"
   },
   {
    "duration": 6,
    "start_time": "2024-10-19T03:12:50.566Z"
   },
   {
    "duration": 102,
    "start_time": "2024-10-19T03:13:42.805Z"
   },
   {
    "duration": 97,
    "start_time": "2024-10-19T03:14:40.250Z"
   },
   {
    "duration": 91,
    "start_time": "2024-10-19T03:15:06.585Z"
   },
   {
    "duration": 91,
    "start_time": "2024-10-19T03:15:23.037Z"
   },
   {
    "duration": 6,
    "start_time": "2024-10-19T03:28:14.850Z"
   },
   {
    "duration": 95,
    "start_time": "2024-10-19T03:30:23.957Z"
   },
   {
    "duration": 96,
    "start_time": "2024-10-19T03:31:26.074Z"
   },
   {
    "duration": 93,
    "start_time": "2024-10-19T03:31:43.501Z"
   },
   {
    "duration": 93,
    "start_time": "2024-10-19T03:31:59.528Z"
   },
   {
    "duration": 94,
    "start_time": "2024-10-19T03:34:57.542Z"
   },
   {
    "duration": 95,
    "start_time": "2024-10-19T03:35:25.706Z"
   },
   {
    "duration": 98,
    "start_time": "2024-10-19T03:38:11.007Z"
   },
   {
    "duration": 96,
    "start_time": "2024-10-19T03:40:13.136Z"
   },
   {
    "duration": 88,
    "start_time": "2024-10-19T03:48:28.106Z"
   },
   {
    "duration": 100,
    "start_time": "2024-10-19T03:50:18.418Z"
   },
   {
    "duration": 108,
    "start_time": "2024-10-19T03:50:25.217Z"
   },
   {
    "duration": 99,
    "start_time": "2024-10-19T03:50:30.266Z"
   },
   {
    "duration": 105,
    "start_time": "2024-10-19T03:52:00.953Z"
   },
   {
    "duration": 15,
    "start_time": "2024-10-19T03:52:29.906Z"
   },
   {
    "duration": 104,
    "start_time": "2024-10-19T03:52:59.421Z"
   },
   {
    "duration": 14,
    "start_time": "2024-10-19T03:53:11.193Z"
   },
   {
    "duration": 89,
    "start_time": "2024-10-19T03:53:24.905Z"
   },
   {
    "duration": 14,
    "start_time": "2024-10-19T03:53:28.677Z"
   },
   {
    "duration": 6,
    "start_time": "2024-10-19T03:54:54.743Z"
   },
   {
    "duration": 85,
    "start_time": "2024-10-19T03:55:41.362Z"
   },
   {
    "duration": 88,
    "start_time": "2024-10-19T03:57:50.216Z"
   },
   {
    "duration": 114,
    "start_time": "2024-10-19T03:58:44.866Z"
   },
   {
    "duration": 19,
    "start_time": "2024-10-19T04:00:49.021Z"
   },
   {
    "duration": 129,
    "start_time": "2024-10-19T04:02:12.449Z"
   },
   {
    "duration": 11,
    "start_time": "2024-10-19T04:02:21.155Z"
   },
   {
    "duration": 73,
    "start_time": "2024-10-19T04:36:31.553Z"
   },
   {
    "duration": 115,
    "start_time": "2024-10-19T04:39:51.707Z"
   },
   {
    "duration": 128,
    "start_time": "2024-10-19T04:40:01.929Z"
   },
   {
    "duration": 122,
    "start_time": "2024-10-19T04:40:06.624Z"
   },
   {
    "duration": 115,
    "start_time": "2024-10-19T04:47:19.094Z"
   },
   {
    "duration": 116,
    "start_time": "2024-10-19T04:47:34.103Z"
   },
   {
    "duration": 117,
    "start_time": "2024-10-19T04:48:13.170Z"
   },
   {
    "duration": 115,
    "start_time": "2024-10-19T04:50:17.673Z"
   },
   {
    "duration": 2627,
    "start_time": "2024-10-21T08:49:07.844Z"
   },
   {
    "duration": 130,
    "start_time": "2024-10-21T08:49:11.775Z"
   },
   {
    "duration": 110,
    "start_time": "2024-10-21T08:49:13.396Z"
   },
   {
    "duration": 32,
    "start_time": "2024-10-21T08:49:16.654Z"
   },
   {
    "duration": 213,
    "start_time": "2024-10-21T08:49:21.205Z"
   },
   {
    "duration": 78,
    "start_time": "2024-10-21T08:49:26.243Z"
   },
   {
    "duration": 127,
    "start_time": "2024-10-21T08:49:29.255Z"
   },
   {
    "duration": 133,
    "start_time": "2024-10-21T08:50:11.055Z"
   },
   {
    "duration": 133,
    "start_time": "2024-10-21T08:50:27.798Z"
   },
   {
    "duration": 137,
    "start_time": "2024-10-21T08:51:11.793Z"
   },
   {
    "duration": 377,
    "start_time": "2024-10-21T08:55:23.099Z"
   },
   {
    "duration": 458,
    "start_time": "2024-10-21T08:59:06.659Z"
   },
   {
    "duration": 52,
    "start_time": "2024-10-21T08:59:47.129Z"
   },
   {
    "duration": 53,
    "start_time": "2024-10-21T09:00:36.084Z"
   },
   {
    "duration": 56,
    "start_time": "2024-10-21T09:01:18.796Z"
   },
   {
    "duration": 51,
    "start_time": "2024-10-21T09:02:23.590Z"
   },
   {
    "duration": 50,
    "start_time": "2024-10-21T09:03:11.613Z"
   },
   {
    "duration": 52,
    "start_time": "2024-10-21T09:04:04.988Z"
   },
   {
    "duration": 135,
    "start_time": "2024-10-21T09:05:50.363Z"
   },
   {
    "duration": 52,
    "start_time": "2024-10-21T09:07:16.422Z"
   },
   {
    "duration": 62,
    "start_time": "2024-10-21T09:07:26.646Z"
   },
   {
    "duration": 50,
    "start_time": "2024-10-21T09:07:46.737Z"
   },
   {
    "duration": 51,
    "start_time": "2024-10-21T09:08:03.624Z"
   },
   {
    "duration": 51,
    "start_time": "2024-10-21T09:08:16.614Z"
   },
   {
    "duration": 7,
    "start_time": "2024-10-21T09:09:10.293Z"
   },
   {
    "duration": 51,
    "start_time": "2024-10-21T09:09:31.352Z"
   },
   {
    "duration": 49,
    "start_time": "2024-10-21T09:10:13.873Z"
   },
   {
    "duration": 51,
    "start_time": "2024-10-21T09:11:38.799Z"
   },
   {
    "duration": 52,
    "start_time": "2024-10-21T09:15:03.894Z"
   },
   {
    "duration": 364,
    "start_time": "2024-10-21T09:35:15.370Z"
   },
   {
    "duration": 56,
    "start_time": "2024-10-21T09:49:47.896Z"
   },
   {
    "duration": 146,
    "start_time": "2024-10-21T09:50:56.947Z"
   },
   {
    "duration": 149,
    "start_time": "2024-10-21T09:52:22.105Z"
   },
   {
    "duration": 155,
    "start_time": "2024-10-21T09:53:07.804Z"
   },
   {
    "duration": 2613,
    "start_time": "2024-10-22T10:18:52.719Z"
   },
   {
    "duration": 130,
    "start_time": "2024-10-22T10:18:56.246Z"
   },
   {
    "duration": 113,
    "start_time": "2024-10-22T10:18:57.338Z"
   },
   {
    "duration": 35,
    "start_time": "2024-10-22T10:18:59.056Z"
   },
   {
    "duration": 222,
    "start_time": "2024-10-22T10:19:02.043Z"
   },
   {
    "duration": 79,
    "start_time": "2024-10-22T10:19:08.073Z"
   },
   {
    "duration": 370,
    "start_time": "2024-10-22T10:19:12.947Z"
   },
   {
    "duration": 155,
    "start_time": "2024-10-22T10:19:15.995Z"
   },
   {
    "duration": 5,
    "start_time": "2024-10-22T10:25:10.986Z"
   },
   {
    "duration": 5,
    "start_time": "2024-10-22T10:38:28.186Z"
   },
   {
    "duration": 24,
    "start_time": "2024-10-22T10:39:41.844Z"
   },
   {
    "duration": 22,
    "start_time": "2024-10-22T10:48:22.126Z"
   },
   {
    "duration": 16,
    "start_time": "2024-10-22T10:58:32.577Z"
   },
   {
    "duration": 15,
    "start_time": "2024-10-22T10:59:19.314Z"
   },
   {
    "duration": 5,
    "start_time": "2024-10-22T11:00:13.563Z"
   },
   {
    "duration": 298,
    "start_time": "2024-10-22T11:02:12.710Z"
   },
   {
    "duration": 3,
    "start_time": "2024-10-22T11:02:51.985Z"
   },
   {
    "duration": 98,
    "start_time": "2024-10-22T11:03:04.980Z"
   },
   {
    "duration": 79,
    "start_time": "2024-10-22T11:03:48.287Z"
   },
   {
    "duration": 23,
    "start_time": "2024-10-22T11:04:02.487Z"
   },
   {
    "duration": 37,
    "start_time": "2024-10-22T11:07:44.462Z"
   },
   {
    "duration": 28,
    "start_time": "2024-10-22T11:08:22.513Z"
   },
   {
    "duration": 27,
    "start_time": "2024-10-22T11:08:48.224Z"
   },
   {
    "duration": 28,
    "start_time": "2024-10-22T11:09:04.788Z"
   },
   {
    "duration": 29,
    "start_time": "2024-10-22T11:09:29.227Z"
   },
   {
    "duration": 28,
    "start_time": "2024-10-22T11:09:53.156Z"
   },
   {
    "duration": 29,
    "start_time": "2024-10-22T11:10:03.669Z"
   },
   {
    "duration": 28,
    "start_time": "2024-10-22T11:10:17.109Z"
   },
   {
    "duration": 377,
    "start_time": "2024-10-22T11:11:02.860Z"
   },
   {
    "duration": 34,
    "start_time": "2024-10-22T11:11:27.297Z"
   },
   {
    "duration": 28,
    "start_time": "2024-10-22T11:11:36.408Z"
   },
   {
    "duration": 2453,
    "start_time": "2024-10-23T09:10:51.697Z"
   },
   {
    "duration": 131,
    "start_time": "2024-10-23T09:10:55.935Z"
   },
   {
    "duration": 109,
    "start_time": "2024-10-23T09:10:59.757Z"
   },
   {
    "duration": 32,
    "start_time": "2024-10-23T09:11:02.508Z"
   },
   {
    "duration": 209,
    "start_time": "2024-10-23T09:11:06.416Z"
   },
   {
    "duration": 78,
    "start_time": "2024-10-23T09:11:11.725Z"
   },
   {
    "duration": 354,
    "start_time": "2024-10-23T09:11:15.856Z"
   },
   {
    "duration": 151,
    "start_time": "2024-10-23T09:11:21.268Z"
   },
   {
    "duration": 22,
    "start_time": "2024-10-23T09:11:30.095Z"
   },
   {
    "duration": 22,
    "start_time": "2024-10-23T09:20:59.149Z"
   },
   {
    "duration": 280,
    "start_time": "2024-10-23T09:23:20.175Z"
   },
   {
    "duration": 56,
    "start_time": "2024-10-23T09:23:28.437Z"
   },
   {
    "duration": 59,
    "start_time": "2024-10-23T09:23:45.463Z"
   },
   {
    "duration": 59,
    "start_time": "2024-10-23T09:24:01.246Z"
   },
   {
    "duration": 75,
    "start_time": "2024-10-23T09:25:12.259Z"
   },
   {
    "duration": 68,
    "start_time": "2024-10-23T09:25:30.117Z"
   },
   {
    "duration": 65,
    "start_time": "2024-10-23T09:26:02.630Z"
   },
   {
    "duration": 71,
    "start_time": "2024-10-23T09:26:32.350Z"
   },
   {
    "duration": 72,
    "start_time": "2024-10-23T09:27:49.373Z"
   },
   {
    "duration": 59,
    "start_time": "2024-10-23T09:30:06.071Z"
   },
   {
    "duration": 61,
    "start_time": "2024-10-23T09:30:33.707Z"
   },
   {
    "duration": 67,
    "start_time": "2024-10-23T09:35:53.555Z"
   },
   {
    "duration": 57,
    "start_time": "2024-10-23T09:39:35.432Z"
   },
   {
    "duration": 11,
    "start_time": "2024-10-23T09:43:34.713Z"
   },
   {
    "duration": 12,
    "start_time": "2024-10-23T09:45:20.545Z"
   },
   {
    "duration": 12,
    "start_time": "2024-10-23T09:46:10.793Z"
   },
   {
    "duration": 11,
    "start_time": "2024-10-23T09:46:34.310Z"
   },
   {
    "duration": 8,
    "start_time": "2024-10-23T09:47:24.983Z"
   },
   {
    "duration": 24,
    "start_time": "2024-10-23T09:47:37.299Z"
   },
   {
    "duration": 8,
    "start_time": "2024-10-23T09:47:51.589Z"
   },
   {
    "duration": 9,
    "start_time": "2024-10-23T09:51:02.692Z"
   },
   {
    "duration": 14,
    "start_time": "2024-10-23T09:51:17.225Z"
   },
   {
    "duration": 2,
    "start_time": "2024-10-23T09:51:49.041Z"
   },
   {
    "duration": 56,
    "start_time": "2024-10-23T09:51:53.197Z"
   },
   {
    "duration": 11,
    "start_time": "2024-10-23T09:52:02.157Z"
   },
   {
    "duration": 11,
    "start_time": "2024-10-23T09:55:39.125Z"
   },
   {
    "duration": 12,
    "start_time": "2024-10-23T09:59:59.447Z"
   },
   {
    "duration": 404,
    "start_time": "2024-10-23T10:02:56.539Z"
   },
   {
    "duration": 92,
    "start_time": "2024-10-23T10:03:09.945Z"
   },
   {
    "duration": 7,
    "start_time": "2024-10-23T10:10:20.422Z"
   },
   {
    "duration": 48,
    "start_time": "2024-10-23T10:10:30.767Z"
   },
   {
    "duration": 48,
    "start_time": "2024-10-23T10:12:41.535Z"
   },
   {
    "duration": 13,
    "start_time": "2024-10-23T10:18:52.967Z"
   },
   {
    "duration": 16,
    "start_time": "2024-10-23T10:19:21.184Z"
   },
   {
    "duration": 47,
    "start_time": "2024-10-23T10:19:51.433Z"
   },
   {
    "duration": 3,
    "start_time": "2024-10-23T10:20:22.582Z"
   },
   {
    "duration": 11,
    "start_time": "2024-10-23T10:20:59.415Z"
   },
   {
    "duration": 10,
    "start_time": "2024-10-23T10:21:45.047Z"
   },
   {
    "duration": 11,
    "start_time": "2024-10-23T10:32:16.592Z"
   },
   {
    "duration": 11,
    "start_time": "2024-10-23T10:33:52.987Z"
   },
   {
    "duration": 11,
    "start_time": "2024-10-23T10:34:42.090Z"
   },
   {
    "duration": 11,
    "start_time": "2024-10-23T10:38:31.267Z"
   },
   {
    "duration": 10,
    "start_time": "2024-10-23T10:38:41.763Z"
   },
   {
    "duration": 10,
    "start_time": "2024-10-23T10:42:30.170Z"
   },
   {
    "duration": 10,
    "start_time": "2024-10-23T10:44:16.503Z"
   },
   {
    "duration": 11,
    "start_time": "2024-10-23T10:50:30.194Z"
   },
   {
    "duration": 11,
    "start_time": "2024-10-23T10:50:36.396Z"
   },
   {
    "duration": 11,
    "start_time": "2024-10-23T10:50:43.304Z"
   },
   {
    "duration": 10,
    "start_time": "2024-10-23T10:50:48.332Z"
   },
   {
    "duration": 10,
    "start_time": "2024-10-23T10:50:55.343Z"
   },
   {
    "duration": 2639,
    "start_time": "2024-10-26T04:04:17.551Z"
   },
   {
    "duration": 128,
    "start_time": "2024-10-26T04:04:21.551Z"
   },
   {
    "duration": 125,
    "start_time": "2024-10-26T04:04:23.350Z"
   },
   {
    "duration": 35,
    "start_time": "2024-10-26T04:04:25.303Z"
   },
   {
    "duration": 215,
    "start_time": "2024-10-26T04:04:28.743Z"
   },
   {
    "duration": 86,
    "start_time": "2024-10-26T04:04:34.110Z"
   },
   {
    "duration": 389,
    "start_time": "2024-10-26T04:04:36.953Z"
   },
   {
    "duration": 166,
    "start_time": "2024-10-26T04:04:42.272Z"
   },
   {
    "duration": 58,
    "start_time": "2024-10-26T04:04:46.994Z"
   },
   {
    "duration": 15,
    "start_time": "2024-10-26T04:04:49.929Z"
   },
   {
    "duration": 13,
    "start_time": "2024-10-26T04:04:53.674Z"
   },
   {
    "duration": 11,
    "start_time": "2024-10-26T04:05:05.737Z"
   },
   {
    "duration": 11,
    "start_time": "2024-10-26T04:05:08.215Z"
   },
   {
    "duration": 10,
    "start_time": "2024-10-26T04:05:10.555Z"
   },
   {
    "duration": 11,
    "start_time": "2024-10-26T04:05:12.046Z"
   },
   {
    "duration": 10,
    "start_time": "2024-10-26T04:11:22.053Z"
   },
   {
    "duration": 13,
    "start_time": "2024-10-26T04:13:00.887Z"
   },
   {
    "duration": 11,
    "start_time": "2024-10-26T04:15:57.871Z"
   },
   {
    "duration": 282,
    "start_time": "2024-10-26T04:19:52.253Z"
   },
   {
    "duration": 21,
    "start_time": "2024-10-26T04:20:48.288Z"
   },
   {
    "duration": 11,
    "start_time": "2024-10-26T04:22:22.752Z"
   },
   {
    "duration": 12,
    "start_time": "2024-10-26T04:25:06.160Z"
   },
   {
    "duration": 869,
    "start_time": "2024-10-26T13:44:56.136Z"
   },
   {
    "duration": 113,
    "start_time": "2024-10-26T13:44:57.007Z"
   },
   {
    "duration": 122,
    "start_time": "2024-10-26T13:44:57.121Z"
   },
   {
    "duration": 42,
    "start_time": "2024-10-26T13:44:57.245Z"
   },
   {
    "duration": 223,
    "start_time": "2024-10-26T13:44:57.289Z"
   },
   {
    "duration": 84,
    "start_time": "2024-10-26T13:44:57.514Z"
   },
   {
    "duration": 370,
    "start_time": "2024-10-26T13:44:57.600Z"
   },
   {
    "duration": 210,
    "start_time": "2024-10-26T13:44:57.972Z"
   },
   {
    "duration": 55,
    "start_time": "2024-10-26T13:44:58.184Z"
   },
   {
    "duration": 37,
    "start_time": "2024-10-26T13:44:58.241Z"
   },
   {
    "duration": 12,
    "start_time": "2024-10-26T13:44:58.279Z"
   },
   {
    "duration": 9,
    "start_time": "2024-10-26T13:44:58.293Z"
   },
   {
    "duration": 10,
    "start_time": "2024-10-26T13:44:58.303Z"
   },
   {
    "duration": 9,
    "start_time": "2024-10-26T13:44:58.315Z"
   },
   {
    "duration": 9,
    "start_time": "2024-10-26T13:44:58.326Z"
   },
   {
    "duration": 40,
    "start_time": "2024-10-26T13:44:58.337Z"
   },
   {
    "duration": 10,
    "start_time": "2024-10-26T13:44:58.378Z"
   },
   {
    "duration": 10,
    "start_time": "2024-10-26T13:44:58.389Z"
   },
   {
    "duration": 9,
    "start_time": "2024-10-26T13:44:58.401Z"
   },
   {
    "duration": 9,
    "start_time": "2024-10-26T13:44:58.412Z"
   }
  ],
  "kernelspec": {
   "display_name": "Python 3 (ipykernel)",
   "language": "python",
   "name": "python3"
  },
  "language_info": {
   "codemirror_mode": {
    "name": "ipython",
    "version": 3
   },
   "file_extension": ".py",
   "mimetype": "text/x-python",
   "name": "python",
   "nbconvert_exporter": "python",
   "pygments_lexer": "ipython3",
   "version": "3.11.7"
  },
  "toc": {
   "base_numbering": 1,
   "nav_menu": {},
   "number_sections": true,
   "sideBar": true,
   "skip_h1_title": true,
   "title_cell": "Table of Contents",
   "title_sidebar": "Contents",
   "toc_cell": false,
   "toc_position": {},
   "toc_section_display": true,
   "toc_window_display": false
  }
 },
 "nbformat": 4,
 "nbformat_minor": 4
}
